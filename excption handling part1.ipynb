{
 "cells": [
  {
   "cell_type": "code",
   "execution_count": 3,
   "id": "1c55ba13-3cf7-4b85-aa0b-b13578701e6c",
   "metadata": {},
   "outputs": [
    {
     "data": {
      "text/plain": [
       "' errors\\nbulid-in and user defined\\nStopIteration-generated method doesnot point any object\\nSystemExit-sys.exit()\\nStandardError-except stop iteration and system exit\\nArithemeticError-math calc errors\\nOverflowError'"
      ]
     },
     "execution_count": 3,
     "metadata": {},
     "output_type": "execute_result"
    }
   ],
   "source": [
    "# exception handling \n",
    "''' errors\n",
    "bulid-in and user defined\n",
    "StopIteration-generated method doesnot point any object\n",
    "SystemExit-sys.exit()\n",
    "StandardError-except stop iteration and system exit\n",
    "ArithemeticError-math calc errors\n",
    "OverflowError'''\n"
   ]
  },
  {
   "cell_type": "code",
   "execution_count": 7,
   "id": "aaaced2b-b434-4f9f-a5d1-457c380e95e6",
   "metadata": {},
   "outputs": [
    {
     "name": "stdout",
     "output_type": "stream",
     "text": [
      "enter the numerator: 22\n",
      "enter the denominator: 12\n"
     ]
    },
    {
     "name": "stdout",
     "output_type": "stream",
     "text": [
      "Quotient: 1.8333333333333333\n"
     ]
    }
   ],
   "source": [
    "# program to handle zero division Error \n",
    "num=int(input(\"enter the numerator:\"))\n",
    "deno=int(input(\"enter the denominator:\"))\n",
    "try:\n",
    "    quo=num/deno\n",
    "    print(\"Quotient:\",quo)\n",
    "except ZeroDivisionError:\n",
    "    print(\"Denominator cannot be a zero\")"
   ]
  },
  {
   "cell_type": "code",
   "execution_count": 21,
   "id": "7f3cb559-2eff-4609-ac16-802961165b4d",
   "metadata": {},
   "outputs": [
    {
     "name": "stdout",
     "output_type": "stream",
     "text": [
      "enter the numerator: \n"
     ]
    },
    {
     "name": "stdout",
     "output_type": "stream",
     "text": [
      "you should be enter number only\n",
      "program terminated\n",
      "good bye\n"
     ]
    }
   ],
   "source": [
    "# multiple exceptionns  with ina single try block \n",
    "try:\n",
    "    num=int(input(\"enter the numerator:\"))\n",
    "    print(num**3)\n",
    "except(KeyboardInterrupt):\n",
    "    print(\" you should not interrupt the complier\")\n",
    "except(ValueError):\n",
    "    print(\"you should be enter number only\")\n",
    "print(\"program terminated\")\n",
    "print(\"good bye\")"
   ]
  },
  {
   "cell_type": "code",
   "execution_count": 27,
   "id": "6d842337-f616-477a-a765-95ccde6716c8",
   "metadata": {},
   "outputs": [
    {
     "name": "stdout",
     "output_type": "stream",
     "text": [
      "enter the numerator: \n"
     ]
    },
    {
     "name": "stdout",
     "output_type": "stream",
     "text": [
      " you should not interrupt the complier\n",
      "program terminated\n",
      "good bye\n"
     ]
    }
   ],
   "source": [
    "#program to handle  multiple exceptions in a single block \n",
    "try:\n",
    "    num=int(input(\"enter the numerator:\"))\n",
    "    print(num**3)\n",
    "except(KeyboardInterrupt,ValueError,TypeError,IOError):\n",
    "    print(\" you should not interrupt the complier\")\n",
    "print(\"program terminated\")\n",
    "print(\"good bye\")"
   ]
  },
  {
   "cell_type": "code",
   "execution_count": null,
   "id": "ccae98c2-d34c-49ec-a143-29c7d98045ad",
   "metadata": {},
   "outputs": [],
   "source": []
  }
 ],
 "metadata": {
  "kernelspec": {
   "display_name": "Python 3 (ipykernel)",
   "language": "python",
   "name": "python3"
  },
  "language_info": {
   "codemirror_mode": {
    "name": "ipython",
    "version": 3
   },
   "file_extension": ".py",
   "mimetype": "text/x-python",
   "name": "python",
   "nbconvert_exporter": "python",
   "pygments_lexer": "ipython3",
   "version": "3.12.7"
  }
 },
 "nbformat": 4,
 "nbformat_minor": 5
}
